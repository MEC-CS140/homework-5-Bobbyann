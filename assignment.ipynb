{
 "cells": [
  {
   "cell_type": "markdown",
   "metadata": {},
   "source": [
    "# CS 140 Python In Class Assignment:Lists\n",
    "1. Follow the instructions in the comments\n",
    "2. Commit your code\n",
    "3. Past assignment repository to Blackboard\n",
    "\n",
    "**Make a new Code cell by clicking the + Code button at the top of the notebook.**"
   ]
  },
  {
   "cell_type": "code",
   "execution_count": null,
   "metadata": {
    "vscode": {
     "languageId": "plaintext"
    }
   },
   "outputs": [],
   "source": [
    "num_list = [2, 7, 10, 100, 101, 200 ,270, 947]\n",
    "\n",
    "# Print the length of this list\n",
    "\n",
    "# Remove 100 from num_list\n",
    "\n",
    "# Write code that tries to find 31 exist in this list\n"
   ]
  }
 ],
 "metadata": {
  "language_info": {
   "name": "python"
  }
 },
 "nbformat": 4,
 "nbformat_minor": 2
}
