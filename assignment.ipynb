{
 "cells": [
  {
   "cell_type": "markdown",
   "metadata": {},
   "source": [
    "# CS 140 Python Assignment:Lists, Loops, Functions\n",
    "\n",
    "## How to run:\n",
    "- Select Kernel (top left)\n",
    "- Python Environments\n",
    "- Python 3.10.13 (any version will work)\n",
    "\n",
    "\n",
    "## Assignment instructions\n",
    "1. Follow the instructions in the comments\n",
    "2. Commit your code\n",
    "3. Past assignment repository to Blackboard\n",
    "\n",
    "**Make a new Code cell by clicking the + Code button at the top of the notebook.**"
   ]
  },
  {
   "cell_type": "code",
   "execution_count": null,
   "metadata": {},
   "outputs": [],
   "source": [
    "num_list = [2, 7, 10, 100, 101, 200 ,270, 947]\n",
    "\n",
    "# Print the length of this list (10 points)\n",
    "\n",
    "# Remove 100 from num_list (10 points)\n",
    "\n",
    "# Write code that tries to find 31 exist in this list (10 points)"
   ]
  },
  {
   "cell_type": "code",
   "execution_count": null,
   "metadata": {},
   "outputs": [],
   "source": [
    "# Fizz Buzz\n",
    "# Print the numbers 1 to 100 (10 points)\n",
    "# If a number is multiple of 3, print the word \"Fizz\" instead of the number (10 points)\n",
    "# If a number is multiple of 5, print the word \"Buzz\" instead of the number (10 points)\n",
    "# For numbers that can are a multiple of 3 and 5 (like 15) print \"Fizz\" instead of the number (10 points)\n",
    "\n",
    "# if number % 3 == 0:\n",
    "#   print(\"fizz\")"
   ]
  },
  {
   "cell_type": "code",
   "execution_count": null,
   "metadata": {},
   "outputs": [],
   "source": [
    "# Create a function that adds two numbers together and returns the sum (10 points)\n",
    "# The two numbers must be parameters (5 points)\n",
    "\n",
    "def add():\n",
    "\n",
    "# Create a function that subtracts two numbers together and returns the difference (10 points)\n",
    "# The two numbers need to be parameters (5 points)\n",
    "\n",
    "def subtract():\n",
    "\n"
   ]
  },
  {
   "cell_type": "code",
   "execution_count": 4,
   "metadata": {},
   "outputs": [
    {
     "name": "stdout",
     "output_type": "stream",
     "text": [
      "Length of num_list: 8\n",
      "Removed 100 from num_list\n",
      "31 doesn't exist in num_list\n"
     ]
    }
   ],
   "source": [
    "num_list = [2, 7, 10, 100, 101, 200, 270, 947]\n",
    "\n",
    "\n",
    "print(\"Length of num_list:\", len(num_list))\n",
    "\n",
    "\n",
    "if 100 in num_list:\n",
    "    num_list.remove(100)\n",
    "    print(\"Removed 100 from num_list\")\n",
    "else:\n",
    "    print(\"100 not found in num_list\")\n",
    "\n",
    "\n",
    "if 31 in num_list:\n",
    "    print(\"31 exists in num_list\")\n",
    "else:\n",
    "    print(\"31 doesn't exist in num_list\")"
   ]
  },
  {
   "cell_type": "markdown",
   "metadata": {},
   "source": []
  }
 ],
 "metadata": {
  "kernelspec": {
   "display_name": "Python 3",
   "language": "python",
   "name": "python3"
  },
  "language_info": {
   "codemirror_mode": {
    "name": "ipython",
    "version": 3
   },
   "file_extension": ".py",
   "mimetype": "text/x-python",
   "name": "python",
   "nbconvert_exporter": "python",
   "pygments_lexer": "ipython3",
   "version": "3.10.13"
  }
 },
 "nbformat": 4,
 "nbformat_minor": 2
}
