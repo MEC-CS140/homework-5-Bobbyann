{
 "cells": [
  {
   "cell_type": "markdown",
   "metadata": {},
   "source": [
    "# CS 140 Python Assignment:Lists, Loops, Functions\n",
    "\n",
    "## How to run:\n",
    "- Select Kernel (top left)\n",
    "- Python Environments\n",
    "- Python 3.10.13 (any version will work)\n",
    "\n",
    "\n",
    "## Assignment instructions\n",
    "1. Follow the instructions in the comments\n",
    "2. Commit your code\n",
    "3. Past assignment repository to Blackboard\n",
    "\n",
    "**Make a new Code cell by clicking the + Code button at the top of the notebook.**"
   ]
  },
  {
   "cell_type": "code",
   "execution_count": null,
   "metadata": {
    "vscode": {
     "languageId": "plaintext"
    }
   },
   "outputs": [],
   "source": [
    "num_list = [2, 7, 10, 100, 101, 200 ,270, 947]\n",
    "\n",
    "# Print the length of this list\n",
    "\n",
    "# Remove 100 from num_list\n",
    "\n",
    "# Write code that tries to find 31 exist in this list"
   ]
  },
  {
   "cell_type": "code",
   "execution_count": null,
   "metadata": {
    "vscode": {
     "languageId": "plaintext"
    }
   },
   "outputs": [],
   "source": [
    "# Fizz Buzz\n",
    "# Print the numbers 1 to 100\n",
    "# If a number is multiple of 3, print the word \"Fizz\" instead of the number\n",
    "# If a number is multiple of 5, print the word \"Buzz\" instead of the number\n",
    "# For numbers that can are a multiple of 3 and 5 (like 15) print \"Fizz\" instead of the number\n",
    "\n",
    "# if number % 3 == 0:\n",
    "#   print(\"fizz\")"
   ]
  },
  {
   "cell_type": "code",
   "execution_count": null,
   "metadata": {
    "vscode": {
     "languageId": "plaintext"
    }
   },
   "outputs": [],
   "source": [
    "# Create a function that adds two numbers together and returns the sum\n",
    "def add():\n",
    "\n",
    "# Create a function that subtracts two numbers together and returns the difference\n",
    "def subtract():\n",
    "\n",
    "# The two numbers need to be parameters\n"
   ]
  }
 ],
 "metadata": {
  "language_info": {
   "name": "python"
  }
 },
 "nbformat": 4,
 "nbformat_minor": 2
}
